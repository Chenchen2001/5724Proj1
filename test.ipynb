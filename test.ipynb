{
 "cells": [
  {
   "cell_type": "code",
   "metadata": {
    "ExecuteTime": {
     "end_time": "2024-10-18T07:46:17.758028Z",
     "start_time": "2024-10-18T07:46:17.635901Z"
    }
   },
   "source": [
    "import DataDealer as DD\n",
    "from DecisionTreeGini import DecisionTreeGini as DT\n",
    "\n",
    "tHead = ['age', 'workclass', 'fnlwgt', 'education', 'education-num', \n",
    "         'martial-status', 'occupation', 'relationship', 'race', 'sex', \n",
    "         'capital-gain', 'capital-loss', 'hours-per-week', 'income']\n",
    "numericIndex = [0, 2, 4, 10, 11, 12]\n",
    "training_set = DD.read_data('./adult/adult.data', tHead, \n",
    "                           paraNumeric= numericIndex, \n",
    "                           paraRemove=[-2])\n",
    "evaluation_set = DD.read_data('./adult/adult.test', tHead, \n",
    "                             paraNumeric=numericIndex, \n",
    "                             paraRemove=[-2], isTest=True)\n",
    "TREE_MIN_SAMPLE_SPLIT = 10\n",
    "TREE_MAX_DEPTH = 10\n",
    "\n",
    "print(f\"traing data size: {len(training_set)}\\t evaluation data set: {len(evaluation_set)}\")\n",
    "print(f\"min_samples_split={TREE_MIN_SAMPLE_SPLIT}, max_depth={TREE_MAX_DEPTH}\")"
   ],
   "outputs": [
    {
     "name": "stdout",
     "output_type": "stream",
     "text": [
      "traing data size: 30162\t evaluation data set: 15060\n",
      "min_samples_split=10, max_depth=10\n"
     ]
    }
   ],
   "execution_count": 1
  },
  {
   "cell_type": "code",
   "metadata": {
    "ExecuteTime": {
     "end_time": "2024-10-18T07:46:17.819098Z",
     "start_time": "2024-10-18T07:46:17.760034Z"
    }
   },
   "source": [
    "tEncoded_data, tValue_dicts = DD.label_encode(training_set)\n",
    "tFeatures = [list(data.values())[:-1] for data in tEncoded_data]\n",
    "tLabels = [data['income'] for data in tEncoded_data]\n",
    "print(\"========== TRAINING MODEL on Training SET ==========\")"
   ],
   "outputs": [
    {
     "name": "stdout",
     "output_type": "stream",
     "text": [
      "========== TRAINING MODEL on Training SET ==========\n"
     ]
    }
   ],
   "execution_count": 2
  },
  {
   "cell_type": "code",
   "metadata": {
    "ExecuteTime": {
     "end_time": "2024-10-18T07:46:18.287477Z",
     "start_time": "2024-10-18T07:46:17.819098Z"
    }
   },
   "source": [
    "tree = DT(TREE_MIN_SAMPLE_SPLIT, TREE_MAX_DEPTH, numericIndex)\n",
    "tree.tree = tree.fit(tFeatures, tLabels)\n",
    "print(\"========== TRAINING MODEL FINISHED ==========\")"
   ],
   "outputs": [
    {
     "name": "stdout",
     "output_type": "stream",
     "text": [
      "========== TRAINING MODEL FINISHED ==========\n"
     ]
    }
   ],
   "execution_count": 3
  },
  {
   "cell_type": "code",
   "metadata": {
    "ExecuteTime": {
     "end_time": "2024-10-18T07:46:18.304124Z",
     "start_time": "2024-10-18T07:46:18.288481Z"
    }
   },
   "source": [
    "print(\"========== EVALUATION on Training SET ==========\")\n",
    "tPredictions = tree.predict(tFeatures)\n",
    "DD.print_model_evaluation_result(tEncoded_data, tPredictions)"
   ],
   "outputs": [
    {
     "name": "stdout",
     "output_type": "stream",
     "text": [
      "========== EVALUATION on Training SET ==========\n",
      "Accuracy: 0.79773\n",
      "Precision: 0.99230\n",
      "Recall: 0.18887\n",
      "F1 Score: 0.31733\n"
     ]
    }
   ],
   "execution_count": 4
  },
  {
   "cell_type": "code",
   "metadata": {
    "ExecuteTime": {
     "end_time": "2024-10-18T07:46:18.340607Z",
     "start_time": "2024-10-18T07:46:18.305131Z"
    }
   },
   "source": [
    "print(\"========== EVALUATION on Evaluation SET ==========\")\n",
    "eEncoded_data, eValue_dicts = DD.label_encode(evaluation_set, tValue_dicts)\n",
    "eFeatures = [list(data.values())[:-1] for data in eEncoded_data]\n",
    "ePredictions = tree.predict(eFeatures)\n",
    "DD.print_model_evaluation_result(eEncoded_data, ePredictions)"
   ],
   "outputs": [
    {
     "name": "stdout",
     "output_type": "stream",
     "text": [
      "========== EVALUATION on Evaluation SET ==========\n",
      "Accuracy: 0.79907\n",
      "Precision: 0.99269\n",
      "Recall: 0.18351\n",
      "F1 Score: 0.30976\n"
     ]
    }
   ],
   "execution_count": 5
  },
  {
   "cell_type": "code",
   "metadata": {
    "ExecuteTime": {
     "end_time": "2024-10-18T07:46:18.346795Z",
     "start_time": "2024-10-18T07:46:18.340607Z"
    }
   },
   "source": [
    "print(\"========== DECISION TREE RESULT ==========\")\n",
    "DD.TreePrinter(tree.tree, tHead, eValue_dicts).print_tree()"
   ],
   "outputs": [
    {
     "name": "stdout",
     "output_type": "stream",
     "text": [
      "========== DECISION TREE RESULT ==========\n",
      "|- capital-gain <= 5119.0\n",
      "L   |- INCOME <=50k\n",
      "R   |- capital-gain <= 7073.5\n",
      "R   L   |- capital-gain <= 5316.5\n",
      "R   L   L   |- INCOME >50k\n",
      "R   L   R   |- age <= 61.0\n",
      "R   L   R   L   |- age <= 54.0\n",
      "R   L   R   R   |- capital-gain <= 6618.5\n",
      "R   L   R   R   L   |- INCOME >50k\n",
      "R   L   R   R   R   |- INCOME <=50k\n",
      "R   R   |- age <= 20.0\n",
      "R   R   L   |- INCOME <=50k\n",
      "R   R   R   |- education-num <= 1.5\n",
      "R   R   R   L   |- INCOME <=50k\n",
      "R   R   R   R   |- age <= 60.5\n",
      "R   R   R   R   L   |- fnlwgt <= 24872.5\n",
      "R   R   R   R   L   L   |- INCOME >50k\n",
      "R   R   R   R   L   R   |- INCOME >50k\n",
      "R   R   R   R   R   |- capital-gain <= 10585.5\n",
      "R   R   R   R   R   L   |- capital-gain <= 10543.0\n",
      "R   R   R   R   R   L   L   |- INCOME >50k\n",
      "R   R   R   R   R   L   R   |- INCOME <=50k\n",
      "R   R   R   R   R   R   |- fnlwgt <= 34367.0\n",
      "R   R   R   R   R   R   L   |- INCOME <=50k\n",
      "R   R   R   R   R   R   R   |- INCOME >50k\n"
     ]
    }
   ],
   "execution_count": 6
  },
  {
   "cell_type": "code",
   "metadata": {
    "ExecuteTime": {
     "end_time": "2024-10-18T07:46:18.353249Z",
     "start_time": "2024-10-18T07:46:18.346795Z"
    }
   },
   "source": [
    "print(\"\\n\\n========== PREDICT RESULT OF EVALUATION SET ==========\")\n",
    "DD.print_all_results_of_eval(eEncoded_data[:10], ePredictions[:10])"
   ],
   "outputs": [
    {
     "name": "stdout",
     "output_type": "stream",
     "text": [
      "\n",
      "\n",
      "========== PREDICT RESULT OF EVALUATION SET ==========\n",
      "SAMPLE 1\t: actual result - <=50k\t predicted result - <=50k\t predict True.\n",
      "SAMPLE 2\t: actual result - <=50k\t predicted result - <=50k\t predict True.\n",
      "SAMPLE 3\t: actual result - >50k\t predicted result - <=50k\t predict False.\n",
      "SAMPLE 4\t: actual result - >50k\t predicted result - >50k\t predict True.\n",
      "SAMPLE 5\t: actual result - <=50k\t predicted result - <=50k\t predict True.\n",
      "SAMPLE 6\t: actual result - >50k\t predicted result - <=50k\t predict False.\n",
      "SAMPLE 7\t: actual result - <=50k\t predicted result - <=50k\t predict True.\n",
      "SAMPLE 8\t: actual result - <=50k\t predicted result - <=50k\t predict True.\n",
      "SAMPLE 9\t: actual result - >50k\t predicted result - >50k\t predict True.\n",
      "SAMPLE 10\t: actual result - <=50k\t predicted result - <=50k\t predict True.\n"
     ]
    }
   ],
   "execution_count": 7
  },
  {
   "cell_type": "code",
   "metadata": {
    "ExecuteTime": {
     "end_time": "2024-10-18T07:46:18.355506Z",
     "start_time": "2024-10-18T07:46:18.353249Z"
    }
   },
   "source": [],
   "outputs": [],
   "execution_count": 7
  }
 ],
 "metadata": {
  "kernelspec": {
   "display_name": "Python 3",
   "language": "python",
   "name": "python3"
  },
  "language_info": {
   "codemirror_mode": {
    "name": "ipython",
    "version": 3
   },
   "file_extension": ".py",
   "mimetype": "text/x-python",
   "name": "python",
   "nbconvert_exporter": "python",
   "pygments_lexer": "ipython3",
   "version": "3.10.0"
  }
 },
 "nbformat": 4,
 "nbformat_minor": 2
}
