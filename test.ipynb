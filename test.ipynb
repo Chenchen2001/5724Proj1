{
 "cells": [
  {
   "cell_type": "code",
   "execution_count": 1,
   "metadata": {},
   "outputs": [
    {
     "name": "stdout",
     "output_type": "stream",
     "text": [
      "traing data size: 30162\t evaluation data set: 15060\n",
      "min_samples_split=10, max_depth=5\n"
     ]
    }
   ],
   "source": [
    "import DataDealer as DD\n",
    "from DecisionTreeGini import DecisionTreeGini as DT\n",
    "\n",
    "tHead = ['age', 'workclass', 'fnlwgt', 'education', 'education-num', \n",
    "         'martial-status', 'occupation', 'relationship', 'race', 'sex', \n",
    "         'capital-gain', 'capital-loss', 'hours-per-week', 'income']\n",
    "numericIndex = [0, 2, 4, 10, 11, 12]\n",
    "training_set = DD.read_data('./adult/adult.data', tHead, \n",
    "                           paraNumeric= numericIndex, \n",
    "                           paraRemove=[-2])\n",
    "evaluation_set = DD.read_data('./adult/adult.test', tHead, \n",
    "                             paraNumeric=numericIndex, \n",
    "                             paraRemove=[-2], isTest=True)\n",
    "TREE_MIN_SAMPLE_SPLIT = 10\n",
    "TREE_MAX_DEPTH = 5\n",
    "\n",
    "print(f\"traing data size: {len(training_set)}\\t evaluation data set: {len(evaluation_set)}\")\n",
    "print(f\"min_samples_split={TREE_MIN_SAMPLE_SPLIT}, max_depth={TREE_MAX_DEPTH}\")"
   ]
  },
  {
   "cell_type": "code",
   "execution_count": 2,
   "metadata": {},
   "outputs": [
    {
     "name": "stdout",
     "output_type": "stream",
     "text": [
      "========== TRAINING MODEL on Training SET ==========\n"
     ]
    }
   ],
   "source": [
    "tEncoded_data, tValue_dicts = DD.label_encode(training_set)\n",
    "tFeatures = [list(data.values())[:-1] for data in tEncoded_data]\n",
    "tLabels = [data['income'] for data in tEncoded_data]\n",
    "print(\"========== TRAINING MODEL on Training SET ==========\")"
   ]
  },
  {
   "cell_type": "code",
   "execution_count": 3,
   "metadata": {},
   "outputs": [
    {
     "name": "stdout",
     "output_type": "stream",
     "text": [
      "========== TRAINING MODEL FINISHED ==========\n"
     ]
    }
   ],
   "source": [
    "tree = DT(TREE_MIN_SAMPLE_SPLIT, TREE_MAX_DEPTH, numericIndex)\n",
    "tree.tree = tree.fit(tFeatures, tLabels)\n",
    "print(\"========== TRAINING MODEL FINISHED ==========\")"
   ]
  },
  {
   "cell_type": "code",
   "execution_count": 4,
   "metadata": {},
   "outputs": [
    {
     "name": "stdout",
     "output_type": "stream",
     "text": [
      "========== EVALUATION on Training SET ==========\n",
      "Accuracy: 0.84\n",
      "Precision: 0.79\n",
      "Recall: 0.50\n",
      "F1 Score: 0.61\n"
     ]
    }
   ],
   "source": [
    "print(\"========== EVALUATION on Training SET ==========\")\n",
    "tPredictions = tree.predict(tFeatures)\n",
    "DD.print_model_evaluation_result(tEncoded_data, tPredictions)"
   ]
  },
  {
   "cell_type": "code",
   "execution_count": 5,
   "metadata": {},
   "outputs": [
    {
     "name": "stdout",
     "output_type": "stream",
     "text": [
      "========== EVALUATION on Evaluation SET ==========\n",
      "Accuracy: 0.84\n",
      "Precision: 0.78\n",
      "Recall: 0.49\n",
      "F1 Score: 0.60\n"
     ]
    }
   ],
   "source": [
    "print(\"========== EVALUATION on Evaluation SET ==========\")\n",
    "eEncoded_data, eValue_dicts = DD.label_encode(evaluation_set, tValue_dicts)\n",
    "eFeatures = [list(data.values())[:-1] for data in eEncoded_data]\n",
    "ePredictions = tree.predict(eFeatures)\n",
    "DD.print_model_evaluation_result(eEncoded_data, ePredictions)"
   ]
  },
  {
   "cell_type": "code",
   "execution_count": 6,
   "metadata": {},
   "outputs": [
    {
     "name": "stdout",
     "output_type": "stream",
     "text": [
      "========== DECISION TREE RESULT ==========\n",
      "|- martial-status is Married-civ-spouse\n",
      "L   |- education-num <= 12\n",
      "L   L   |- capital-gain <= 5013\n",
      "L   L   L   |- education-num <= 8\n",
      "L   L   L   L   |- capital-loss <= 1735\n",
      "L   L   L   R   |- age <= 35\n",
      "L   L   R   |- age <= 60\n",
      "L   L   R   L   |- education is Preschool\n",
      "L   L   R   L   L   |- <=50k\n",
      "L   L   R   L   R   |- >50k\n",
      "L   L   R   R   |- workclass is Local-gov\n",
      "L   L   R   R   L   |- <=50k\n",
      "L   L   R   R   R   |- >50k\n",
      "L   R   |- capital-gain <= 5013\n",
      "L   R   L   |- capital-loss <= 1740\n",
      "L   R   L   L   |- hours-per-week <= 30\n",
      "L   R   L   L   L   |- <=50k\n",
      "L   R   L   L   R   |- >50k\n",
      "L   R   L   R   |- capital-loss <= 1977\n",
      "L   R   L   R   L   |- >50k\n",
      "L   R   L   R   R   |- >50k\n",
      "L   R   R   |- age <= 79\n",
      "L   R   R   L   |- occupation is Farming-fishing\n",
      "L   R   R   L   L   |- >50k\n",
      "L   R   R   L   R   |- >50k\n",
      "L   R   R   R   |- >50k\n",
      "R   |- capital-gain <= 6849\n",
      "R   L   |- education-num <= 12\n",
      "R   L   L   |- capital-loss <= 2206\n",
      "R   L   L   L   |- hours-per-week <= 40\n",
      "R   L   L   R   |- fnlwgt <= 121441\n",
      "R   L   L   R   L   |- >50k\n",
      "R   L   L   R   R   |- <=50k\n",
      "R   L   R   |- hours-per-week <= 43\n",
      "R   L   R   L   |- age <= 33\n",
      "R   L   R   R   |- age <= 27\n",
      "R   R   |- age <= 19\n",
      "R   R   L   |- <=50k\n",
      "R   R   R   |- capital-gain <= 7978\n",
      "R   R   R   L   |- education-num <= 10\n",
      "R   R   R   L   L   |- <=50k\n",
      "R   R   R   L   R   |- >50k\n",
      "R   R   R   R   |- capital-gain <= 27828\n",
      "R   R   R   R   L   |- >50k\n",
      "R   R   R   R   R   |- >50k\n"
     ]
    }
   ],
   "source": [
    "print(\"========== DECISION TREE RESULT ==========\")\n",
    "DD.TreePrinter(tree.tree, tHead, eValue_dicts).print_tree()"
   ]
  },
  {
   "cell_type": "code",
   "execution_count": null,
   "metadata": {},
   "outputs": [],
   "source": []
  }
 ],
 "metadata": {
  "kernelspec": {
   "display_name": "Python 3",
   "language": "python",
   "name": "python3"
  },
  "language_info": {
   "codemirror_mode": {
    "name": "ipython",
    "version": 3
   },
   "file_extension": ".py",
   "mimetype": "text/x-python",
   "name": "python",
   "nbconvert_exporter": "python",
   "pygments_lexer": "ipython3",
   "version": "3.10.0"
  }
 },
 "nbformat": 4,
 "nbformat_minor": 2
}
